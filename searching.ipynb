{
 "cells": [
  {
   "cell_type": "code",
   "execution_count": 2,
   "metadata": {},
   "outputs": [],
   "source": [
    "import cv2\n",
    "import numpy as np\n",
    "import matplotlib.pyplot as plt"
   ]
  },
  {
   "cell_type": "code",
   "execution_count": 11,
   "metadata": {},
   "outputs": [],
   "source": [
    "RED = np.array((0, 0, 255))\n",
    "GREEN = np.array((0, 255, 0))\n",
    "BLACK = np.array((0, 0, 0))\n",
    "WHITE = np.array((255, 255, 255))\n",
    "GRAY = np.array((0.5, 0.5, 0.5))"
   ]
  },
  {
   "cell_type": "code",
   "execution_count": 12,
   "metadata": {},
   "outputs": [],
   "source": [
    "dx = [0, 0, 1, -1]\n",
    "dy = [1, -1, 0, 0]"
   ]
  },
  {
   "cell_type": "code",
   "execution_count": 13,
   "metadata": {},
   "outputs": [],
   "source": [
    "bdx, bdy, graph, flag = 20, 20, None, 0\n",
    "def init():\n",
    "    global graph, flag\n",
    "    flag = 0\n",
    "    graph = np.zeros((bdx, bdy, 3))\n",
    "    graph[bdx//2 - 1, 2] = GREEN\n",
    "    graph[bdx//2 - 1, bdy - 3] = RED"
   ]
  },
  {
   "cell_type": "code",
   "execution_count": 14,
   "metadata": {},
   "outputs": [],
   "source": [
    "def cv2_imshow(graph = None):\n",
    "    img = graph\n",
    "    img = cv2.resize(img, ((1000//bdx)*bdx, (1000//bdy)*bdy), interpolation=cv2.INTER_NEAREST)\n",
    "    cv2.imshow(\"TEST\",img)\n",
    "    cv2.waitKey(100)"
   ]
  },
  {
   "cell_type": "code",
   "execution_count": 15,
   "metadata": {},
   "outputs": [],
   "source": [
    "def gen_graph():\n",
    "    global graph\n",
    "    init()\n",
    "    graph[0:7, 7] = GRAY\n",
    "    graph[5:14, 10] = GRAY\n",
    "    graph[13:20, 13] = GRAY\n",
    "    graph[13, 3:7] = GRAY"
   ]
  },
  {
   "cell_type": "code",
   "execution_count": 16,
   "metadata": {},
   "outputs": [],
   "source": [
    "def dfs(x, y):\n",
    "    global graph, flag\n",
    "    if not (x < bdx and x > -1) or  not(y < bdy and y > -1) or flag == 2:\n",
    "        return\n",
    "    elif (graph[x, y] == GRAY).all():\n",
    "        return\n",
    "    elif (graph[x, y] == GREEN).all():\n",
    "        if flag == 0: flag += 1\n",
    "        else: return\n",
    "    elif (graph[x, y] == RED).all():\n",
    "        flag = 2\n",
    "        return\n",
    "    elif (graph[x, y] == WHITE).all():\n",
    "        return\n",
    "    else: \n",
    "        graph[x, y] = WHITE\n",
    "    cv2_imshow(graph)\n",
    "    for xx, yy in zip(dx, dy):\n",
    "        dfs(x+xx, y+yy)"
   ]
  },
  {
   "cell_type": "code",
   "execution_count": 34,
   "metadata": {},
   "outputs": [],
   "source": [
    "def bfs(x, y):\n",
    "    nxt, flag = [(x, y)], 0\n",
    "    while len(nxt):\n",
    "        nx, ny = nxt[0]\n",
    "        nxt.pop(0)\n",
    "        if not (nx < bdx and nx > -1) or not(ny < bdy and ny > -1):\n",
    "            continue\n",
    "        elif (graph[nx, ny] == RED).all():\n",
    "            break\n",
    "        elif (graph[nx, ny] == GREEN).all():\n",
    "            if flag: continue\n",
    "            flag += 1\n",
    "        elif graph[nx, ny].sum():\n",
    "            continue\n",
    "        else: \n",
    "            graph[nx, ny] = WHITE\n",
    "        cv2_imshow(graph)\n",
    "        for xx, yy in zip(dx, dy):\n",
    "            nxt.append((nx+xx, ny+yy))"
   ]
  },
  {
   "cell_type": "code",
   "execution_count": 35,
   "metadata": {},
   "outputs": [],
   "source": [
    "gen_graph()\n",
    "bfs(bdx//2 - 1, 2)\n",
    "cv2.waitKey()\n",
    "cv2.destroyAllWindows()"
   ]
  },
  {
   "cell_type": "code",
   "execution_count": 21,
   "metadata": {},
   "outputs": [],
   "source": [
    "gen_graph()\n",
    "dfs(bdx//2 - 1, 2)\n",
    "cv2.waitKey()\n",
    "cv2.destroyAllWindows()"
   ]
  },
  {
   "cell_type": "code",
   "execution_count": null,
   "metadata": {},
   "outputs": [],
   "source": []
  }
 ],
 "metadata": {
  "kernelspec": {
   "display_name": "Python 3.8.13 ('ALGO')",
   "language": "python",
   "name": "python3"
  },
  "language_info": {
   "codemirror_mode": {
    "name": "ipython",
    "version": 3
   },
   "file_extension": ".py",
   "mimetype": "text/x-python",
   "name": "python",
   "nbconvert_exporter": "python",
   "pygments_lexer": "ipython3",
   "version": "3.8.13"
  },
  "orig_nbformat": 4,
  "vscode": {
   "interpreter": {
    "hash": "438ac1d8378c78d97641ce1206b6168ae62c797f4619bf4e860b402e2e5b1e3c"
   }
  }
 },
 "nbformat": 4,
 "nbformat_minor": 2
}
