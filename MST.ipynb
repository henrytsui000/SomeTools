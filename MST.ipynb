{
 "cells": [
  {
   "cell_type": "code",
   "execution_count": 245,
   "metadata": {},
   "outputs": [],
   "source": [
    "from queue import PriorityQueue\n",
    "from random import randint, uniform\n",
    "\n",
    "import networkx as nx\n",
    "from matplotlib import animation, rc\n",
    "import matplotlib.pyplot as plt"
   ]
  },
  {
   "cell_type": "code",
   "execution_count": 246,
   "metadata": {},
   "outputs": [],
   "source": [
    "rc('animation', html='html5')"
   ]
  },
  {
   "cell_type": "code",
   "execution_count": 247,
   "metadata": {},
   "outputs": [],
   "source": [
    "graph = nx.Graph()\n",
    "\n",
    "f = open(\"graph.txt\", \"r\")\n",
    "f.readlines\n",
    "for i in f.readlines():\n",
    "    u, v, w = i.split()\n",
    "    graph.add_edge(int(u), int(v), weight=int(w))\n",
    "\n",
    "\n",
    "pos = {0: (0, 0.2),\n",
    "       1: (1, 0.4),\n",
    "       2: (2, 0.4),\n",
    "       3: (3, 0.4),\n",
    "       4: (4, 0.2),\n",
    "       5: (3, 0),\n",
    "       6: (2, 0),\n",
    "       7: (1, 0),\n",
    "       8: (2, 0.2)\n",
    "       }"
   ]
  },
  {
   "cell_type": "code",
   "execution_count": 248,
   "metadata": {},
   "outputs": [],
   "source": [
    "%%capture\n",
    "all_edges = set(\n",
    "    tuple(sorted((n1, n2))) for n1, n2 in graph.edges()\n",
    ")\n",
    "edges_in_mst = set()\n",
    "nodes_on_mst = set()\n",
    "\n",
    "fig, ax = plt.subplots(figsize=(4,2))\n"
   ]
  },
  {
   "cell_type": "code",
   "execution_count": 249,
   "metadata": {},
   "outputs": [],
   "source": [
    "def prims():\n",
    "    pqueue = PriorityQueue()\n",
    "\n",
    "    start_node = 0\n",
    "    for neighbor in graph.neighbors(start_node):\n",
    "        edge_data = graph.get_edge_data(start_node, neighbor)\n",
    "        edge_weight = edge_data[\"weight\"]\n",
    "        pqueue.put((edge_weight, (start_node, neighbor)))\n",
    "\n",
    "    while len(nodes_on_mst) < 9:\n",
    "        _, edge = pqueue.get(pqueue)\n",
    "\n",
    "        if edge[0] not in nodes_on_mst:\n",
    "            new_node = edge[0]\n",
    "        elif edge[1] not in nodes_on_mst:\n",
    "            new_node = edge[1]\n",
    "        else:\n",
    "            continue\n",
    "\n",
    "        for neighbor in graph.neighbors(new_node):\n",
    "            edge_data = graph.get_edge_data(new_node, neighbor)\n",
    "            edge_weight = edge_data[\"weight\"]\n",
    "            pqueue.put((edge_weight, (new_node, neighbor)))\n",
    "\n",
    "        edges_in_mst.add(tuple(sorted(edge)))\n",
    "        nodes_on_mst.add(new_node)\n",
    "        yield edges_in_mst"
   ]
  },
  {
   "cell_type": "code",
   "execution_count": 250,
   "metadata": {},
   "outputs": [],
   "source": [
    "def update(mst_edges):\n",
    "    ax.clear()\n",
    "    nx.draw_networkx_nodes(graph, pos, node_size=200, ax=ax, node_color=\"#F00078\")\n",
    "    nx.draw_networkx_labels(graph,pos=pos, ax = ax, font_size=8)\n",
    "\n",
    "    nx.draw_networkx_edges(\n",
    "        graph, pos, edgelist=all_edges-mst_edges, alpha=0.5,\n",
    "        edge_color='g', width=1, ax=ax, \n",
    "    )\n",
    "    \n",
    "    nx.draw_networkx_edges(\n",
    "        graph, pos, edgelist=mst_edges, alpha=1.0,\n",
    "        edge_color=\"#F00078\", width=2, ax=ax,\n",
    "    )\n",
    "\n",
    "def do_nothing():\n",
    "    pass"
   ]
  },
  {
   "cell_type": "code",
   "execution_count": 251,
   "metadata": {},
   "outputs": [],
   "source": [
    "ani = animation.FuncAnimation(\n",
    "    fig,\n",
    "    update,\n",
    "    init_func=do_nothing,\n",
    "    frames=prims,\n",
    "    interval=500,\n",
    ")"
   ]
  },
  {
   "cell_type": "code",
   "execution_count": 252,
   "metadata": {},
   "outputs": [],
   "source": [
    "f = r\"output.gif\" \n",
    "writergif = animation.PillowWriter() \n",
    "ani.save(f, writer=writergif)\n"
   ]
  },
  {
   "cell_type": "code",
   "execution_count": null,
   "metadata": {},
   "outputs": [],
   "source": []
  }
 ],
 "metadata": {
  "interpreter": {
   "hash": "204bcbd66181765f24c10b21f78f142509de1695cec3a4668ced8e217cb6290d"
  },
  "kernelspec": {
   "display_name": "Python 3.8.10 ('ML')",
   "language": "python",
   "name": "python3"
  },
  "language_info": {
   "codemirror_mode": {
    "name": "ipython",
    "version": 3
   },
   "file_extension": ".py",
   "mimetype": "text/x-python",
   "name": "python",
   "nbconvert_exporter": "python",
   "pygments_lexer": "ipython3",
   "version": "3.8.10"
  },
  "orig_nbformat": 4
 },
 "nbformat": 4,
 "nbformat_minor": 2
}
