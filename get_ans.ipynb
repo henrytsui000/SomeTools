{
 "cells": [
  {
   "cell_type": "code",
   "execution_count": 1,
   "metadata": {},
   "outputs": [],
   "source": [
    "import os\n",
    "import zipfile"
   ]
  },
  {
   "cell_type": "markdown",
   "metadata": {},
   "source": [
    "# To Do\n",
    "unzip 1101.1037-xxxxx\n",
    "and but this file into that file\n",
    "ex:\n",
    "```\n",
    "./1101.1037-HW4 - Chapter4-232296/\n",
    "├── ID DEP  XXXXXX_assignsubmission_file_\n",
    "│   └── HWxx_ID_NAME.zip\n",
    "├── ...\n",
    "├── ID DEP  XXXXXX_assignsubmission_file_\n",
    "│   └── HWxx_ID_NAME.zip\n",
    "└── get_ans.ipynb\n",
    "```"
   ]
  },
  {
   "cell_type": "markdown",
   "metadata": {},
   "source": [
    "# unzip!"
   ]
  },
  {
   "cell_type": "code",
   "execution_count": 2,
   "metadata": {},
   "outputs": [
    {
     "name": "stdout",
     "output_type": "stream",
     "text": [
      "109511039 電機系  UEE 劉震緯_1482265_assignsubmission_file_\n",
      "109511039\\ 電機系\\ \\ UEE\\ 劉震緯_1482265_assignsubmission_file_\n",
      "0710161 電機系  UEE 陶榮台_1482262_assignsubmission_file_\n",
      "0710161\\ 電機系\\ \\ UEE\\ 陶榮台_1482262_assignsubmission_file_\n",
      "109511076 電機系  UEE 魏恩立_1482243_assignsubmission_file_\n",
      "109511076\\ 電機系\\ \\ UEE\\ 魏恩立_1482243_assignsubmission_file_\n",
      "0710828 電機系  UEE 黃亦弘_1482179_assignsubmission_file_\n",
      "0710828\\ 電機系\\ \\ UEE\\ 黃亦弘_1482179_assignsubmission_file_\n",
      "109511147 電機系  UEE 陳昱宏_1482286_assignsubmission_file_\n",
      "109511147\\ 電機系\\ \\ UEE\\ 陳昱宏_1482286_assignsubmission_file_\n",
      "0710841 電機系  UEE 葉彥呈_1482183_assignsubmission_file_\n",
      "0710841\\ 電機系\\ \\ UEE\\ 葉彥呈_1482183_assignsubmission_file_\n",
      "0810706 電機系  UEE 黃長襄_1482184_assignsubmission_file_\n",
      "0810706\\ 電機系\\ \\ UEE\\ 黃長襄_1482184_assignsubmission_file_\n",
      "0812235 應數系  DAM 黃婉婷_1482203_assignsubmission_file_\n",
      "0812235\\ 應數系\\ \\ DAM\\ 黃婉婷_1482203_assignsubmission_file_\n",
      "109511063 電機系  UEE 陳岳維_1482278_assignsubmission_file_\n",
      "109511063\\ 電機系\\ \\ UEE\\ 陳岳維_1482278_assignsubmission_file_\n",
      "109511295 電機系  UEE 王綉雯_1482258_assignsubmission_file_\n",
      "109511295\\ 電機系\\ \\ UEE\\ 王綉雯_1482258_assignsubmission_file_\n",
      "109511004 電機系  UEE 巫嘉軒_1482174_assignsubmission_file_\n",
      "109511004\\ 電機系\\ \\ UEE\\ 巫嘉軒_1482174_assignsubmission_file_\n",
      "0710731 電機系  UEE 吳浡禎_1482228_assignsubmission_file_\n",
      "0710731\\ 電機系\\ \\ UEE\\ 吳浡禎_1482228_assignsubmission_file_\n",
      "0810892 電機系  UEE 薛仁豪_1482175_assignsubmission_file_\n",
      "0810892\\ 電機系\\ \\ UEE\\ 薛仁豪_1482175_assignsubmission_file_\n",
      "0810776 電機系  UEE 方君佑_1482233_assignsubmission_file_\n",
      "0810776\\ 電機系\\ \\ UEE\\ 方君佑_1482233_assignsubmission_file_\n",
      "109511017 電機系  UEE 許配慈_1482181_assignsubmission_file_\n",
      "109511017\\ 電機系\\ \\ UEE\\ 許配慈_1482181_assignsubmission_file_\n",
      "0810831 電機系  UEE 陳子嘉_1482261_assignsubmission_file_\n",
      "0810831\\ 電機系\\ \\ UEE\\ 陳子嘉_1482261_assignsubmission_file_\n",
      "0711100 電機系  UEE 蘇彥儒_1482212_assignsubmission_file_\n",
      "0711100\\ 電機系\\ \\ UEE\\ 蘇彥儒_1482212_assignsubmission_file_\n",
      "0810743 電機系  UEE 許翊頎_1482279_assignsubmission_file_\n",
      "0810743\\ 電機系\\ \\ UEE\\ 許翊頎_1482279_assignsubmission_file_\n",
      "0810850 電機系  UEE 張瓊方_1482268_assignsubmission_file_\n",
      "0810850\\ 電機系\\ \\ UEE\\ 張瓊方_1482268_assignsubmission_file_\n",
      "109511299 電機系  UEE 彭鈞偉_1482275_assignsubmission_file_\n",
      "109511299\\ 電機系\\ \\ UEE\\ 彭鈞偉_1482275_assignsubmission_file_\n",
      "0810829 電機系  UEE 張詠晴_1482240_assignsubmission_file_\n",
      "0810829\\ 電機系\\ \\ UEE\\ 張詠晴_1482240_assignsubmission_file_\n",
      "109511031 電機系  UEE 吳宗翰_1482172_assignsubmission_file_\n",
      "109511031\\ 電機系\\ \\ UEE\\ 吳宗翰_1482172_assignsubmission_file_\n",
      "109511189 電機系  UEE 丁立心_1482241_assignsubmission_file_\n",
      "109511189\\ 電機系\\ \\ UEE\\ 丁立心_1482241_assignsubmission_file_\n",
      "109511173 電機系  UEE 陳郁文_1482180_assignsubmission_file_\n",
      "109511173\\ 電機系\\ \\ UEE\\ 陳郁文_1482180_assignsubmission_file_\n",
      "0710877 電機系  UEE 謝承宏_1482274_assignsubmission_file_\n",
      "0710877\\ 電機系\\ \\ UEE\\ 謝承宏_1482274_assignsubmission_file_\n",
      "109511226 電機系  UEE 湯睿廷_1482166_assignsubmission_file_\n",
      "109511226\\ 電機系\\ \\ UEE\\ 湯睿廷_1482166_assignsubmission_file_\n",
      "0810992 電機系  UEE 張仁瑋_1482264_assignsubmission_file_\n",
      "0810992\\ 電機系\\ \\ UEE\\ 張仁瑋_1482264_assignsubmission_file_\n",
      "0819806 百川  DWA 劉潔昕_1482254_assignsubmission_file_\n",
      "0819806\\ 百川\\ \\ DWA\\ 劉潔昕_1482254_assignsubmission_file_\n",
      "0810733 電機系  UEE 張宸瑜_1482217_assignsubmission_file_\n",
      "0810733\\ 電機系\\ \\ UEE\\ 張宸瑜_1482217_assignsubmission_file_\n",
      "109511159 電機系  UEE 李國維_1482201_assignsubmission_file_\n",
      "109511159\\ 電機系\\ \\ UEE\\ 李國維_1482201_assignsubmission_file_\n",
      "0611612 奈米學士班  DPN 鄧長軒_1482226_assignsubmission_file_\n",
      "0611612\\ 奈米學士班\\ \\ DPN\\ 鄧長軒_1482226_assignsubmission_file_\n",
      "0711248 電機系  UEE 陳允中_1482260_assignsubmission_file_\n",
      "0711248\\ 電機系\\ \\ UEE\\ 陳允中_1482260_assignsubmission_file_\n",
      "109511061 電機系  UEE 許于軒_1482277_assignsubmission_file_\n",
      "109511061\\ 電機系\\ \\ UEE\\ 許于軒_1482277_assignsubmission_file_\n",
      "0710772 電機系  UEE 蘇泰齊_1482271_assignsubmission_file_\n",
      "0710772\\ 電機系\\ \\ UEE\\ 蘇泰齊_1482271_assignsubmission_file_\n",
      "109511190 電機系  UEE 鄭宇皓_1482192_assignsubmission_file_\n",
      "109511190\\ 電機系\\ \\ UEE\\ 鄭宇皓_1482192_assignsubmission_file_\n",
      "0810988 電機系  UEE 連國煒_1482176_assignsubmission_file_\n",
      "0810988\\ 電機系\\ \\ UEE\\ 連國煒_1482176_assignsubmission_file_\n",
      "109511029 電機系  UEE 黃羿寧_1482190_assignsubmission_file_\n",
      "109511029\\ 電機系\\ \\ UEE\\ 黃羿寧_1482190_assignsubmission_file_\n",
      "109511088 電機系  UEE 劉善馥_1482237_assignsubmission_file_\n",
      "109511088\\ 電機系\\ \\ UEE\\ 劉善馥_1482237_assignsubmission_file_\n",
      "0810885 電機系  UEE 黃昱璇_1482222_assignsubmission_file_\n",
      "0810885\\ 電機系\\ \\ UEE\\ 黃昱璇_1482222_assignsubmission_file_\n",
      "0710777 電機系  UEE 林嘉祐_1482170_assignsubmission_file_\n",
      "0710777\\ 電機系\\ \\ UEE\\ 林嘉祐_1482170_assignsubmission_file_\n",
      "109511037 電機系  UEE 吳淵渟_1482214_assignsubmission_file_\n",
      "109511037\\ 電機系\\ \\ UEE\\ 吳淵渟_1482214_assignsubmission_file_\n",
      "0810750 電機系  UEE 林芷妘_1482281_assignsubmission_file_\n",
      "0810750\\ 電機系\\ \\ UEE\\ 林芷妘_1482281_assignsubmission_file_\n",
      "l101501 宏國德霖 奚安璿_1482213_assignsubmission_file_\n",
      "l101501\\ 宏國德霖\\ 奚安璿_1482213_assignsubmission_file_\n",
      "109511085 電機系  UEE 洪鈺翔_1482242_assignsubmission_file_\n",
      "109511085\\ 電機系\\ \\ UEE\\ 洪鈺翔_1482242_assignsubmission_file_\n",
      "109511018 電機系  UEE 賴奕翔_1482267_assignsubmission_file_\n",
      "109511018\\ 電機系\\ \\ UEE\\ 賴奕翔_1482267_assignsubmission_file_\n",
      "109511109 電機系  UEE 范均緯_1482287_assignsubmission_file_\n",
      "109511109\\ 電機系\\ \\ UEE\\ 范均緯_1482287_assignsubmission_file_\n",
      "0710849 電機系  UEE 林廷翰_1482231_assignsubmission_file_\n",
      "0710849\\ 電機系\\ \\ UEE\\ 林廷翰_1482231_assignsubmission_file_\n",
      "0810982 電機系  UEE 邱冠珅_1482202_assignsubmission_file_\n",
      "0810982\\ 電機系\\ \\ UEE\\ 邱冠珅_1482202_assignsubmission_file_\n",
      "109511019 電機系  UEE 彭梓芫_1482208_assignsubmission_file_\n",
      "109511019\\ 電機系\\ \\ UEE\\ 彭梓芫_1482208_assignsubmission_file_\n",
      "109511101 電機系  UEE 黃玨家_1482263_assignsubmission_file_\n",
      "109511101\\ 電機系\\ \\ UEE\\ 黃玨家_1482263_assignsubmission_file_\n",
      "109511225 電機系  UEE 古逸明_1482194_assignsubmission_file_\n",
      "109511225\\ 電機系\\ \\ UEE\\ 古逸明_1482194_assignsubmission_file_\n",
      "109511074 電機系  UEE 紀柏謙_1482193_assignsubmission_file_\n",
      "109511074\\ 電機系\\ \\ UEE\\ 紀柏謙_1482193_assignsubmission_file_\n",
      "0810760 電機系  UEE 陳億豪_1482197_assignsubmission_file_\n",
      "0810760\\ 電機系\\ \\ UEE\\ 陳億豪_1482197_assignsubmission_file_\n",
      "0810825 電機系  UEE 李佳璋_1482229_assignsubmission_file_\n",
      "0810825\\ 電機系\\ \\ UEE\\ 李佳璋_1482229_assignsubmission_file_\n",
      "310512022 電控碩  ICN 張凱翔_1482283_assignsubmission_file_\n",
      "310512022\\ 電控碩\\ \\ ICN\\ 張凱翔_1482283_assignsubmission_file_\n",
      "109511055 電機系  UEE 蘇柏叡_1482230_assignsubmission_file_\n",
      "109511055\\ 電機系\\ \\ UEE\\ 蘇柏叡_1482230_assignsubmission_file_\n",
      "0810833 電機系  UEE 李柏佑_1482168_assignsubmission_file_\n",
      "0810833\\ 電機系\\ \\ UEE\\ 李柏佑_1482168_assignsubmission_file_\n",
      "109511108 電機系  UEE 周岷玄_1482204_assignsubmission_file_\n",
      "109511108\\ 電機系\\ \\ UEE\\ 周岷玄_1482204_assignsubmission_file_\n",
      "0610817 電機系  UEE 陳維楨_1482198_assignsubmission_file_\n",
      "0610817\\ 電機系\\ \\ UEE\\ 陳維楨_1482198_assignsubmission_file_\n",
      "109511096 電機系  UEE 李柏賢_1482169_assignsubmission_file_\n",
      "109511096\\ 電機系\\ \\ UEE\\ 李柏賢_1482169_assignsubmission_file_\n",
      "109511007 電機系  UEE 張筱琪_1482223_assignsubmission_file_\n",
      "109511007\\ 電機系\\ \\ UEE\\ 張筱琪_1482223_assignsubmission_file_\n",
      "109511168 電機系  UEE 陳奕嘉_1482224_assignsubmission_file_\n",
      "109511168\\ 電機系\\ \\ UEE\\ 陳奕嘉_1482224_assignsubmission_file_\n",
      "0810861 電機系  UEE 黃友奕_1482252_assignsubmission_file_\n",
      "0810861\\ 電機系\\ \\ UEE\\ 黃友奕_1482252_assignsubmission_file_\n",
      "109511216 電機系  UEE 林冠曄_1482171_assignsubmission_file_\n",
      "109511216\\ 電機系\\ \\ UEE\\ 林冠曄_1482171_assignsubmission_file_\n",
      "109511221 電機系  UEE 尤彥博_1482218_assignsubmission_file_\n",
      "109511221\\ 電機系\\ \\ UEE\\ 尤彥博_1482218_assignsubmission_file_\n",
      "0710176 電機系  UEE 張政友_1482209_assignsubmission_file_\n",
      "0710176\\ 電機系\\ \\ UEE\\ 張政友_1482209_assignsubmission_file_\n",
      "109511143 電機系  UEE 林詠鈞_1482188_assignsubmission_file_\n",
      "109511143\\ 電機系\\ \\ UEE\\ 林詠鈞_1482188_assignsubmission_file_\n",
      "109511095 電機系  UEE 鄭貽謙_1482245_assignsubmission_file_\n",
      "109511095\\ 電機系\\ \\ UEE\\ 鄭貽謙_1482245_assignsubmission_file_\n",
      "109511077 電機系  UEE 王姿婷_1482227_assignsubmission_file_\n",
      "109511077\\ 電機系\\ \\ UEE\\ 王姿婷_1482227_assignsubmission_file_\n",
      "0717015 電機系  UEE 劉書愷_1482244_assignsubmission_file_\n",
      "0717015\\ 電機系\\ \\ UEE\\ 劉書愷_1482244_assignsubmission_file_\n",
      "610001022 選讀  TS 何怡昕_1482221_assignsubmission_file_\n",
      "610001022\\ 選讀\\ \\ TS\\ 何怡昕_1482221_assignsubmission_file_\n",
      "109511262 電機系  UEE 黃柏綸_1482210_assignsubmission_file_\n",
      "109511262\\ 電機系\\ \\ UEE\\ 黃柏綸_1482210_assignsubmission_file_\n",
      "0810801 電機系  UEE 陳怡仁_1482191_assignsubmission_file_\n",
      "0810801\\ 電機系\\ \\ UEE\\ 陳怡仁_1482191_assignsubmission_file_\n",
      "109511060 電機系  UEE 邱政羿_1482256_assignsubmission_file_\n",
      "109511060\\ 電機系\\ \\ UEE\\ 邱政羿_1482256_assignsubmission_file_\n",
      "109511183 電機系  UEE 烏孝權_1482215_assignsubmission_file_\n",
      "109511183\\ 電機系\\ \\ UEE\\ 烏孝權_1482215_assignsubmission_file_\n",
      "0810784 電機系  UEE 王顥雲_1482253_assignsubmission_file_\n",
      "0810784\\ 電機系\\ \\ UEE\\ 王顥雲_1482253_assignsubmission_file_\n",
      "0711321 光電系  DEO 徐育暉_1482257_assignsubmission_file_\n",
      "0711321\\ 光電系\\ \\ DEO\\ 徐育暉_1482257_assignsubmission_file_\n",
      "0810860 電機系  UEE 李悅慈_1482280_assignsubmission_file_\n",
      "0810860\\ 電機系\\ \\ UEE\\ 李悅慈_1482280_assignsubmission_file_\n",
      "109511244 電機系  UEE 洪崇恩_1482269_assignsubmission_file_\n",
      "109511244\\ 電機系\\ \\ UEE\\ 洪崇恩_1482269_assignsubmission_file_\n",
      "109511125 電機系  UEE 柯孟杰_1482235_assignsubmission_file_\n",
      "109511125\\ 電機系\\ \\ UEE\\ 柯孟杰_1482235_assignsubmission_file_\n",
      "0810927 電機系  UEE 柴俊豪_1482178_assignsubmission_file_\n",
      "0810927\\ 電機系\\ \\ UEE\\ 柴俊豪_1482178_assignsubmission_file_\n",
      "109511100 電機系  UEE 梁浩哲_1482282_assignsubmission_file_\n",
      "109511100\\ 電機系\\ \\ UEE\\ 梁浩哲_1482282_assignsubmission_file_\n",
      "109511009 電機系  UEE 蔡爵宇_1482239_assignsubmission_file_\n",
      "109511009\\ 電機系\\ \\ UEE\\ 蔡爵宇_1482239_assignsubmission_file_\n",
      "109511179 電機系  UEE 魏浩芃_1482185_assignsubmission_file_\n",
      "109511179\\ 電機系\\ \\ UEE\\ 魏浩芃_1482185_assignsubmission_file_\n",
      "0810725 電機系  UEE 曾冠富_1482196_assignsubmission_file_\n",
      "0810725\\ 電機系\\ \\ UEE\\ 曾冠富_1482196_assignsubmission_file_\n",
      "109511234 電機系  UEE 蔡鎧宇_1482186_assignsubmission_file_\n",
      "109511234\\ 電機系\\ \\ UEE\\ 蔡鎧宇_1482186_assignsubmission_file_\n",
      "0710787 電機系  UEE 郭俊毅_1482255_assignsubmission_file_\n",
      "0710787\\ 電機系\\ \\ UEE\\ 郭俊毅_1482255_assignsubmission_file_\n",
      "109511099 電機系  UEE 林彥廷_1482200_assignsubmission_file_\n",
      "109511099\\ 電機系\\ \\ UEE\\ 林彥廷_1482200_assignsubmission_file_\n",
      "0810844 電機系  UEE 曾碩林_1482276_assignsubmission_file_\n",
      "0810844\\ 電機系\\ \\ UEE\\ 曾碩林_1482276_assignsubmission_file_\n",
      "0710838 電機系  UEE 黃敘理_1482225_assignsubmission_file_\n",
      "0710838\\ 電機系\\ \\ UEE\\ 黃敘理_1482225_assignsubmission_file_\n",
      "109511220 電機系  UEE 蔡安祈_1482272_assignsubmission_file_\n",
      "109511220\\ 電機系\\ \\ UEE\\ 蔡安祈_1482272_assignsubmission_file_\n",
      "109511200 電機系  UEE 林若安_1482195_assignsubmission_file_\n",
      "109511200\\ 電機系\\ \\ UEE\\ 林若安_1482195_assignsubmission_file_\n",
      "0710827 電機系  UEE 蔡宇哲_1482182_assignsubmission_file_\n",
      "0710827\\ 電機系\\ \\ UEE\\ 蔡宇哲_1482182_assignsubmission_file_\n",
      "109511006 電機系  UEE 方芷琳_1482234_assignsubmission_file_\n",
      "109511006\\ 電機系\\ \\ UEE\\ 方芷琳_1482234_assignsubmission_file_\n",
      "0810715 電機系  UEE 林毓雯_1482216_assignsubmission_file_\n",
      "0810715\\ 電機系\\ \\ UEE\\ 林毓雯_1482216_assignsubmission_file_\n",
      "0810905 電機系  UEE 陳昱滕_1482219_assignsubmission_file_\n",
      "0810905\\ 電機系\\ \\ UEE\\ 陳昱滕_1482219_assignsubmission_file_\n",
      "109511242 電機系  UEE 邵政允_1482199_assignsubmission_file_\n",
      "109511242\\ 電機系\\ \\ UEE\\ 邵政允_1482199_assignsubmission_file_\n",
      "10514023 藥學系 鄭力誠_1482273_assignsubmission_file_\n",
      "10514023\\ 藥學系\\ 鄭力誠_1482273_assignsubmission_file_\n",
      "0711063 電機系  UEE 李正洋_1482248_assignsubmission_file_\n",
      "0711063\\ 電機系\\ \\ UEE\\ 李正洋_1482248_assignsubmission_file_\n",
      "109511057 電機系  UEE 林昱廷_1482266_assignsubmission_file_\n",
      "109511057\\ 電機系\\ \\ UEE\\ 林昱廷_1482266_assignsubmission_file_\n",
      "0810972 電機系  UEE 姚呈宇_1482189_assignsubmission_file_\n",
      "0810972\\ 電機系\\ \\ UEE\\ 姚呈宇_1482189_assignsubmission_file_\n",
      "109511136 電機系  UEE 葉曜銘_1482207_assignsubmission_file_\n",
      "109511136\\ 電機系\\ \\ UEE\\ 葉曜銘_1482207_assignsubmission_file_\n",
      "109511054 電機系  UEE 王宏銘_1482247_assignsubmission_file_\n",
      "109511054\\ 電機系\\ \\ UEE\\ 王宏銘_1482247_assignsubmission_file_\n",
      "109511130 電機系  UEE 蔡宜樺_1482220_assignsubmission_file_\n",
      "109511130\\ 電機系\\ \\ UEE\\ 蔡宜樺_1482220_assignsubmission_file_\n",
      "0712014 電物系  DEP 謝承恩_1482232_assignsubmission_file_\n",
      "0712014\\ 電物系\\ \\ DEP\\ 謝承恩_1482232_assignsubmission_file_\n",
      "0711098 電機系  UEE 王品棠_1482206_assignsubmission_file_\n",
      "0711098\\ 電機系\\ \\ UEE\\ 王品棠_1482206_assignsubmission_file_\n",
      "0810943 電機系  UEE 楊子霆_1482246_assignsubmission_file_\n",
      "0810943\\ 電機系\\ \\ UEE\\ 楊子霆_1482246_assignsubmission_file_\n",
      "0710723 電機系  UEE 丁婕茹_1482177_assignsubmission_file_\n",
      "0710723\\ 電機系\\ \\ UEE\\ 丁婕茹_1482177_assignsubmission_file_\n",
      "109511026 電機系  UEE 黃政昇_1482167_assignsubmission_file_\n",
      "109511026\\ 電機系\\ \\ UEE\\ 黃政昇_1482167_assignsubmission_file_\n",
      "get_ans.ipynb\n",
      "get\n",
      "109511219 電機系  UEE 林錦樑_1482205_assignsubmission_file_\n",
      "109511219\\ 電機系\\ \\ UEE\\ 林錦樑_1482205_assignsubmission_file_\n",
      "0710765 電機系  UEE 蔡宜勳_1482238_assignsubmission_file_\n",
      "0710765\\ 電機系\\ \\ UEE\\ 蔡宜勳_1482238_assignsubmission_file_\n"
     ]
    }
   ],
   "source": [
    "for file_name in os.listdir('./'):\n",
    "    print(file_name)\n",
    "    if file_name[:3] == \"get\":\n",
    "        print(file_name[:3])\n",
    "        continue\n",
    "    new_file_name = \"\"\n",
    "    for ch in file_name:\n",
    "        if ch == \" \":\n",
    "            new_file_name += '\\\\'\n",
    "        new_file_name += ch\n",
    "    print(new_file_name)\n",
    "    os.system(f\"mv {new_file_name} {file_name.replace(' ', '_')}\")"
   ]
  },
  {
   "cell_type": "code",
   "execution_count": 3,
   "metadata": {},
   "outputs": [],
   "source": [
    "for file_name in os.listdir('./'):\n",
    "    # print(file_name)\n",
    "    if (file_name[:4] == \"uzip\") or (file_name[:3] == \"get\"):\n",
    "        continue\n",
    "    for zipname in os.listdir(f'./{file_name}'):\n",
    "        # print(zipname)\n",
    "        try:\n",
    "            with zipfile.ZipFile(f'./{file_name}/{zipname}', 'r') as zip_ref:\n",
    "                zip_ref.extractall(f\"./uzip/{zipname[:-4]}\")\n",
    "                break\n",
    "        except :\n",
    "            print(f\"Error in {zipname}\")\n",
    "            pass"
   ]
  },
  {
   "cell_type": "code",
   "execution_count": 4,
   "metadata": {},
   "outputs": [],
   "source": [
    "for name in os.listdir(\"./\"):\n",
    "    if (name != \"uzip\") and (name != \"get_ans.ipynb\"):\n",
    "        os.system(f\"rm -rf ./{name}\") "
   ]
  },
  {
   "cell_type": "markdown",
   "metadata": {},
   "source": [
    "# Compile"
   ]
  },
  {
   "cell_type": "code",
   "execution_count": 5,
   "metadata": {},
   "outputs": [],
   "source": [
    "def is_good_file(name):\n",
    "    ID = \"\"\n",
    "    flag = 0\n",
    "    for ch in name:\n",
    "        if ch == \"_\":\n",
    "            flag += 1\n",
    "        elif flag == 1: \n",
    "            ID += ch\n",
    "    return ID\n",
    "\n",
    "def deb(pth):\n",
    "    ret = \"\"\n",
    "    for ch in pth:\n",
    "        if ch == '`':\n",
    "            ret += '\\\\'\n",
    "        ret += ch\n",
    "    return ret"
   ]
  },
  {
   "cell_type": "code",
   "execution_count": 6,
   "metadata": {},
   "outputs": [],
   "source": [
    "error_file = []\n",
    "def cmp(pth = \"NULL\" ,typ = \"c++\", out_name = \"NULL\"):\n",
    "    pth = deb(pth)\n",
    "    print(f\"g++ {pth} -std=c++14 -O3 -o ./compiled/{out_name}.out\")\n",
    "    if typ == \"c++\":\n",
    "        os.system(f\"g++ {pth} -w -std=c++14 -O3 -o ./compiled/{out_name}.out\")\n",
    "    elif typ == \"c\":\n",
    "        os.system(f\"gcc {pth} -w -o ./compiled/{out_name}.out\")\n",
    "\n",
    "def find_file(pth, std_id):\n",
    "    flag = 0 \n",
    "    # print(pth)\n",
    "    for codename in os.listdir(f\"./{pth}\"):\n",
    "        if codename[-3:] == \"cpp\":\n",
    "            if codename[:-4] != std_id :\n",
    "                continue\n",
    "            flag = 1\n",
    "            cmp(f\"{pth}/{codename}\", \"c++\", codename[:-4])\n",
    "        elif codename[-1:] == \"c\" :\n",
    "            if codename[:-2] != std_id :\n",
    "                continue\n",
    "            flag = 1\n",
    "            cmp(f\"{pth}/{codename}\", \"c\", codename[:-2])\n",
    "    else :\n",
    "        if(flag == 0):\n",
    "            print(f\"\\n\\n{'-'*10} \\n{pth} !!Error or not submit!! \\n{'-'*10} \\n\\n\")\n",
    "            error_file.append(pth)"
   ]
  },
  {
   "cell_type": "code",
   "execution_count": 7,
   "metadata": {},
   "outputs": [],
   "source": [
    "!mkdir compiled"
   ]
  },
  {
   "cell_type": "code",
   "execution_count": 8,
   "metadata": {},
   "outputs": [],
   "source": [
    "WROK_NAME = \"22\""
   ]
  },
  {
   "cell_type": "code",
   "execution_count": 10,
   "metadata": {},
   "outputs": [
    {
     "name": "stdout",
     "output_type": "stream",
     "text": [
      "g++ ./uzip/HW11_0810725_曾冠富/No22/0810725.cpp -std=c++14 -O3 -o ./compiled/0810725.out\n",
      "g++ ./uzip/HW11_109511159_李國維/No22/109511159.cpp -std=c++14 -O3 -o ./compiled/109511159.out\n",
      "g++ ./uzip/HW11_0711248_陳允中/HW11_0711248_│»ñ╣ññ/No22/0711248.cpp -std=c++14 -O3 -o ./compiled/0711248.out\n",
      "g++ ./uzip/HW11_109511136_葉曜銘/HW11_109511136_╕¡┬\\`╗╩/No22/109511136.cpp -std=c++14 -O3 -o ./compiled/109511136.out\n",
      "g++ ./uzip/HW11_109511221_尤彥博/No22/109511221.cpp -std=c++14 -O3 -o ./compiled/109511221.out\n",
      "g++ ./uzip/HW11_0810988_連國煒/No22/0810988.cpp -std=c++14 -O3 -o ./compiled/0810988.out\n"
     ]
    },
    {
     "name": "stderr",
     "output_type": "stream",
     "text": [
      "./uzip/HW11_109511221_尤彥博/No22/109511221.cpp:36:2: error: expected unqualified-id before ‘while’\n",
      "   36 |  while(fscanf(inFile, \"%c %c %d\", &pFromKey, &pToKey, &weight) != EOF)\n",
      "      |  ^~~~~\n",
      "./uzip/HW11_109511221_尤彥博/No22/109511221.cpp:43:8: error: expected constructor, destructor, or type conversion before ‘(’ token\n",
      "   43 |  rewind(inFile);\n",
      "      |        ^\n",
      "./uzip/HW11_109511221_尤彥博/No22/109511221.cpp:45:2: error: expected unqualified-id before ‘for’\n",
      "   45 |  for(char x = '1'; x <= buff; x++)\n",
      "      |  ^~~\n",
      "./uzip/HW11_109511221_尤彥博/No22/109511221.cpp:45:20: error: ‘x’ does not name a type\n",
      "   45 |  for(char x = '1'; x <= buff; x++)\n",
      "      |                    ^\n",
      "./uzip/HW11_109511221_尤彥博/No22/109511221.cpp:45:31: error: ‘x’ does not name a type\n",
      "   45 |  for(char x = '1'; x <= buff; x++)\n",
      "      |                               ^\n",
      "./uzip/HW11_109511221_尤彥博/No22/109511221.cpp:51:8: error: expected constructor, destructor, or type conversion before ‘(’ token\n",
      "   51 |  rewind(inFile);\n",
      "      |        ^\n",
      "./uzip/HW11_109511221_尤彥博/No22/109511221.cpp:53:5: error: ‘i’ does not name a type\n",
      "   53 |     i=0;\n",
      "      |     ^\n",
      "./uzip/HW11_109511221_尤彥博/No22/109511221.cpp:54:5: error: expected unqualified-id before ‘while’\n",
      "   54 |     while(i<n && (c=fgetc(inFile))!=EOF)\n",
      "      |     ^~~~~\n",
      "./uzip/HW11_109511221_尤彥博/No22/109511221.cpp:58:2: error: expected unqualified-id before ‘while’\n",
      "   58 |  while(fscanf(inFile, \" %c %c %d\", &pFromKey, &pToKey, &weight) != EOF)\n",
      "      |  ^~~~~\n",
      "./uzip/HW11_109511221_尤彥博/No22/109511221.cpp:64:2: error: expected unqualified-id before ‘return’\n",
      "   64 |  return graph;\n",
      "      |  ^~~~~~\n",
      "./uzip/HW11_109511221_尤彥博/No22/109511221.cpp:65:1: error: expected declaration before ‘}’ token\n",
      "   65 | }\n",
      "      | ^\n"
     ]
    },
    {
     "name": "stdout",
     "output_type": "stream",
     "text": [
      "g++ ./uzip/HW11_0810850_張瓊方/No22/0810850.cpp -std=c++14 -O3 -o ./compiled/0810850.out\n",
      "g++ ./uzip/HW11_109511019_彭梓芫/HW11_109511019_┤^▒Ω═┤/No22/109511019.cpp -std=c++14 -O3 -o ./compiled/109511019.out\n",
      "g++ ./uzip/HW11_0710765_蔡宜勳/HW11_0710765_╜▓⌐y╛▒/No22/0710765.cpp -std=c++14 -O3 -o ./compiled/0710765.out\n",
      "g++ ./uzip/HW11_109511168_陳奕嘉/No22/109511168.cpp -std=c++14 -O3 -o ./compiled/109511168.out\n",
      "g++ ./uzip/HW11_0710877_謝承宏/HW11/No22/0710877.cpp -std=c++14 -O3 -o ./compiled/0710877.out\n",
      "g++ ./uzip/HW11_0810860_李悅慈/HW11_0810860_º⌡««╖O/No22/0810860.cpp -std=c++14 -O3 -o ./compiled/0810860.out\n",
      "g++ ./uzip/HW11_0710827_蔡宇哲/HW11_0710827_╜▓ªt¡⌡/No22/0710827.cpp -std=c++14 -O3 -o ./compiled/0710827.out\n",
      "g++ ./uzip/HW11_0711100_蘇彥儒/HW11_0711100_─¼½█╛º/No22/0711100.cpp -std=c++14 -O3 -o ./compiled/0711100.out\n",
      "g++ ./uzip/HW11_0711321_徐育暉/No22/0711321.cpp -std=c++14 -O3 -o ./compiled/0711321.out\n",
      "g++ ./uzip/HW11_0712014_謝承恩/No22/0712014.cpp -std=c++14 -O3 -o ./compiled/0712014.out\n",
      "g++ ./uzip/HW11_0810760_陳億豪/HW11_0810760_│»╗⌡╗¿/No22/0810760.cpp -std=c++14 -O3 -o ./compiled/0810760.out\n",
      "g++ ./uzip/HW11_0810861_黃友奕/HW11_0810861_╢└ñ═½│/No22/0810861.cpp -std=c++14 -O3 -o ./compiled/0810861.out\n",
      "g++ ./uzip/HW11_109511200_林若安/HW11_109511200_¬L¡Yªw/No22/109511200.cpp -std=c++14 -O3 -o ./compiled/109511200.out\n",
      "g++ ./uzip/HW11_109511007_張筱琪/HW11_109511007_σ╝╡τ¡▒τÉ¬/No22/109511007.cpp -std=c++14 -O3 -o ./compiled/109511007.out\n",
      "g++ ./uzip/HW11_109511226_湯睿廷/No22/109511226.cpp -std=c++14 -O3 -o ./compiled/109511226.out\n",
      "g++ ./uzip/HW11_109511234_蔡鎧宇/No22/109511234.cpp -std=c++14 -O3 -o ./compiled/109511234.out\n",
      "g++ ./uzip/HW11_109511244_洪崇恩/No22/109511244.c -std=c++14 -O3 -o ./compiled/109511244.out\n",
      "g++ ./uzip/HW11_109511130_蔡宜樺/HW11_109511130_╜▓⌐y╛∞/No22/109511130.cpp -std=c++14 -O3 -o ./compiled/109511130.out\n"
     ]
    },
    {
     "name": "stderr",
     "output_type": "stream",
     "text": [
      "./uzip/HW11_109511130_蔡宜樺/HW11_109511130_╜▓⌐y╛∞/No22/109511130.cpp: In function ‘int main()’:\n",
      "./uzip/HW11_109511130_蔡宜樺/HW11_109511130_╜▓⌐y╛∞/No22/109511130.cpp:11:2: error: ‘scanf_s’ was not declared in this scope; did you mean ‘scanf’?\n",
      "   11 |  scanf_s(\"%d %d\", &vertex, &edge);\n",
      "      |  ^~~~~~~\n",
      "      |  scanf\n"
     ]
    },
    {
     "name": "stdout",
     "output_type": "stream",
     "text": [
      "g++ ./uzip/HW11_0810844_曾碩林/HW11_0810844_┤┐║╙¬L/No22/0810844.cpp -std=c++14 -O3 -o ./compiled/0810844.out\n",
      "g++ ./uzip/HW11_610001022_何怡昕/HW11_610001022_Σ╜òµÇíµÿò/No22/610001022.cpp -std=c++14 -O3 -o ./compiled/610001022.out\n",
      "g++ ./uzip/HW11_0810776_方君佑/HW11_0810776_ñΦºgª÷/No22/0810776.cpp -std=c++14 -O3 -o ./compiled/0810776.out\n",
      "g++ ./uzip/HW11_0810706_黃長襄/No22/0810706.c -std=c++14 -O3 -o ./compiled/0810706.out\n"
     ]
    },
    {
     "name": "stderr",
     "output_type": "stream",
     "text": [
      "./uzip/HW11_0810776_方君佑/HW11_0810776_ñΦºgª÷/No22/0810776.cpp:153:26: error: ISO C++ forbids declaration of ‘gererate_MST’ with no type [-fpermissive]\n",
      "  153 | gererate_MST(Graph* graph){\n",
      "      |                          ^\n",
      "/usr/bin/ld: /tmp/ccznSqr1.o: in function `Consolidate':\n",
      "0810706.c:(.text+0x5da): undefined reference to `log'\n",
      "collect2: error: ld returned 1 exit status\n"
     ]
    },
    {
     "name": "stdout",
     "output_type": "stream",
     "text": [
      "g++ ./uzip/HW11_109511074_紀柏謙/No22/109511074.cpp -std=c++14 -O3 -o ./compiled/109511074.out\n",
      "g++ ./uzip/HW11_0810750_林芷妘/No22/0810750.cpp -std=c++14 -O3 -o ./compiled/0810750.out\n",
      "g++ ./uzip/HW11_0810982_邱冠珅/No22/0810982.cpp -std=c++14 -O3 -o ./compiled/0810982.out\n",
      "g++ ./uzip/HW11_0717015_劉書愷/HW11_0717015_╝B«╤╖_/No22/0717015.cpp -std=c++14 -O3 -o ./compiled/0717015.out\n",
      "g++ ./uzip/HW11_109511060_邱政羿/No22/109511060.cpp -std=c++14 -O3 -o ./compiled/109511060.out\n",
      "g++ ./uzip/HW11_0810743_許翊頎/No22/0810743.cpp -std=c++14 -O3 -o ./compiled/0810743.out\n",
      "g++ ./uzip/HW11_109511057_林昱廷/No22/109511057.cpp -std=c++14 -O3 -o ./compiled/109511057.out\n",
      "g++ ./uzip/HW11_0710772_蘇泰齊/No22/0710772.c -std=c++14 -O3 -o ./compiled/0710772.out\n",
      "g++ ./uzip/HW11_109511029_黃羿寧/HW11_109511029_╢└¼²╣τ/No22/109511029.cpp -std=c++14 -O3 -o ./compiled/109511029.out\n",
      "g++ ./uzip/HW11_109511183_烏孝權/No22/109511183.cpp -std=c++14 -O3 -o ./compiled/109511183.out\n",
      "g++ ./uzip/HW11_109511004_巫嘉軒/HW11_109511004_º┼╣┼░a/No22/109511004.cpp -std=c++14 -O3 -o ./compiled/109511004.out\n",
      "g++ ./uzip/HW11_109511147_陳昱宏/No22/109511147.cpp -std=c++14 -O3 -o ./compiled/109511147.out\n",
      "g++ ./uzip/HW11_0810892_薛仁豪/No22/0810892.cpp -std=c++14 -O3 -o ./compiled/0810892.out\n",
      "g++ ./uzip/HW11_109511143_林詠鈞/No22/109511143.cpp -std=c++14 -O3 -o ./compiled/109511143.out\n",
      "g++ ./uzip/HW11_109511095_鄭貽謙/NO.22/109511095.cpp -std=c++14 -O3 -o ./compiled/109511095.out\n",
      "\n",
      "\n",
      "---------- \n",
      "./uzip/HW11_0810831_陳子嘉/HW11_0810831_│»ñl╣┼/No22 !!Error or not submit!! \n",
      "---------- \n",
      "\n",
      "\n",
      "g++ ./uzip/HW11_0810784_王顥雲/No22/0810784.cpp -std=c++14 -O3 -o ./compiled/0810784.out\n",
      "g++ ./uzip/HW11_0710176_張政友/No22/0710176.cpp -std=c++14 -O3 -o ./compiled/0710176.out\n",
      "g++ ./uzip/HW11_0610817_陳維楨/No22/0610817.cpp -std=c++14 -O3 -o ./compiled/0610817.out\n",
      "g++ ./uzip/HW11_109511031_吳宗翰/No22/109511031.cpp -std=c++14 -O3 -o ./compiled/109511031.out\n",
      "g++ ./uzip/HW11_0810992_張仁瑋/HW11_0810992_σ╝╡Σ╗üτæï/NO22/0810992.cpp -std=c++14 -O3 -o ./compiled/0810992.out\n",
      "g++ ./uzip/HW11_109511039_劉震緯/No22/109511039.cpp -std=c++14 -O3 -o ./compiled/109511039.out\n",
      "g++ ./uzip/HW11_109511299_彭鈞偉/No22/109511299.cpp -std=c++14 -O3 -o ./compiled/109511299.out\n",
      "g++ ./uzip/HW11_109511009_蔡爵宇/No22/109511009.cpp -std=c++14 -O3 -o ./compiled/109511009.out\n",
      "g++ ./uzip/HW11_109511108_周岷玄/HW11_109511108_⌐P⌐óÑ╚/No22/109511108.cpp -std=c++14 -O3 -o ./compiled/109511108.out\n",
      "g++ ./uzip/HW11_109511006_方芷琳/No22/109511006.cpp -std=c++14 -O3 -o ./compiled/109511006.out\n",
      "g++ ./uzip/HW11_109511173_陳郁文/No22/109511173.cpp -std=c++14 -O3 -o ./compiled/109511173.out\n",
      "g++ ./uzip/HW11_109511109_范均緯/HW11_109511109_¡Sºí╜n/No22/109511109.cpp -std=c++14 -O3 -o ./compiled/109511109.out\n",
      "g++ ./uzip/HW11_0819806_劉潔昕/HW11_0819806_╝B╝Σ⌐²/No22/0819806.cpp -std=c++14 -O3 -o ./compiled/0819806.out\n",
      "g++ ./uzip/HW11_0810833_李柏佑/HW11_0810833_º⌡¼fª÷/No22/0810833.cpp -std=c++14 -O3 -o ./compiled/0810833.out\n",
      "g++ ./uzip/HW11_109511225_古逸明/No22/109511225.cpp -std=c++14 -O3 -o ./compiled/109511225.out\n",
      "g++ ./uzip/HW11_0710731_吳浡禎/No22/0710731.cpp -std=c++14 -O3 -o ./compiled/0710731.out\n",
      "g++ ./uzip/HW11_109511085_洪鈺翔/No22/109511085.cpp -std=c++14 -O3 -o ./compiled/109511085.out\n",
      "g++ ./uzip/HW11_0710841_葉彥呈/No22/0710841.cpp -std=c++14 -O3 -o ./compiled/0710841.out\n",
      "g++ ./uzip/HW11_109511061_許于軒/HW11_109511061_│\\ñ_░a/No22/109511061.cpp -std=c++14 -O3 -o ./compiled/109511061.out\n",
      "g++ ./uzip/HW11_109511242_邵政允/No22/109511242.cpp -std=c++14 -O3 -o ./compiled/109511242.out\n"
     ]
    },
    {
     "name": "stderr",
     "output_type": "stream",
     "text": [
      "g++: error: ./uzip/HW11_109511061_許于軒/HW11_109511061_│ñ_░a/No22/109511061.cpp: No such file or directory\n",
      "g++: fatal error: no input files\n",
      "compilation terminated.\n"
     ]
    },
    {
     "name": "stdout",
     "output_type": "stream",
     "text": [
      "g++ ./uzip/HW11_109511076_魏恩立/HW11_109511076_├Q«ªÑ▀/No22/109511076.cpp -std=c++14 -O3 -o ./compiled/109511076.out\n",
      "g++ ./uzip/HW11_0810829_張詠晴/No22/0810829.cpp -std=c++14 -O3 -o ./compiled/0810829.out\n",
      "g++ ./uzip/HW11_109511190_鄭宇皓/No22/109511190.cpp -std=c++14 -O3 -o ./compiled/109511190.out\n",
      "g++ ./uzip/HW11_0710838_黃敘理/HW11_0710838_╢└▒╘▓z/No22/0710838.cpp -std=c++14 -O3 -o ./compiled/0710838.out\n",
      "g++ ./uzip/HW11_0711098_王品棠/HW11_0711098_ñ²½~┤┼/No22/0711098.cpp -std=c++14 -O3 -o ./compiled/0711098.out\n",
      "g++ ./uzip/HW11_109511017_許配慈/HW11_109511017_│\\░t╖O/No22/109511017.cpp -std=c++14 -O3 -o ./compiled/109511017.out\n",
      "g++ ./uzip/HW11_0810733_張宸瑜/No22/0810733.cpp -std=c++14 -O3 -o ./compiled/0810733.out\n"
     ]
    },
    {
     "name": "stderr",
     "output_type": "stream",
     "text": [
      "g++: error: ./uzip/HW11_109511017_許配慈/HW11_109511017_│░t╖O/No22/109511017.cpp: No such file or directory\n",
      "g++: fatal error: no input files\n",
      "compilation terminated.\n"
     ]
    },
    {
     "name": "stdout",
     "output_type": "stream",
     "text": [
      "g++ ./uzip/HW11_0810972_姚呈宇/HW11_0810972_姚呈宇/No22/0810972.cpp -std=c++14 -O3 -o ./compiled/0810972.out\n",
      "g++ ./uzip/HW11_109511216_林冠曄/No22/109511216.cpp -std=c++14 -O3 -o ./compiled/109511216.out\n",
      "g++ ./uzip/HW11_10514023_鄭力誠/No22/10514023.c -std=c++14 -O3 -o ./compiled/10514023.out\n",
      "g++ ./uzip/HW11_0812235_黃婉婷/No22/0812235.cpp -std=c++14 -O3 -o ./compiled/0812235.out\n",
      "g++ ./uzip/HW11_109511262_黃柏綸/No22/109511262.cpp -std=c++14 -O3 -o ./compiled/109511262.out\n",
      "g++ ./uzip/HW11_109511026_黃政昇/HW11_109511026_╢└¼F¬@/No22/109511026.cpp -std=c++14 -O3 -o ./compiled/109511026.out\n",
      "g++ ./uzip/HW11_310512022_張凱翔/HW11_310512022_▒i│═╡╛/No22/310512022.cpp -std=c++14 -O3 -o ./compiled/310512022.out\n",
      "g++ ./uzip/HW11_109511054_王宏銘/No22/109511054.cpp -std=c++14 -O3 -o ./compiled/109511054.out\n",
      "g++ ./uzip/HW11_109511101_黃玨家/HW11/No22/109511101.cpp -std=c++14 -O3 -o ./compiled/109511101.out\n",
      "g++ ./uzip/HW11_0810885_黃昱璇/No22/0810885.cpp -std=c++14 -O3 -o ./compiled/0810885.out\n",
      "g++ ./uzip/HW11_109511295_王綉雯/HW11_109511295_王綉雯/No22/109511295.cpp -std=c++14 -O3 -o ./compiled/109511295.out\n",
      "g++ ./uzip/HW11_0710787_郭俊毅/No22/0710787.cpp -std=c++14 -O3 -o ./compiled/0710787.out\n",
      "g++ ./uzip/HW11_109511219_林錦樑/No22/109511219.cpp -std=c++14 -O3 -o ./compiled/109511219.out\n",
      "g++ ./uzip/HW11_0711063_李正洋/No22/0711063.c -std=c++14 -O3 -o ./compiled/0711063.out\n",
      "g++ ./uzip/HW09_109511179_魏浩芃/No22/109511179.c -std=c++14 -O3 -o ./compiled/109511179.out\n",
      "g++ ./uzip/HW11_109511220_蔡安祈/HW11_109511220_╜▓ªw¼Φ/No22/109511220.cpp -std=c++14 -O3 -o ./compiled/109511220.out\n",
      "\n",
      "\n",
      "---------- \n",
      "./uzip/HW11_109511018_賴奕翔/No22 !!Error or not submit!! \n",
      "---------- \n",
      "\n",
      "\n",
      "g++ ./uzip/HW11_0611612_鄧長軒/No22/0611612.cpp -std=c++14 -O3 -o ./compiled/0611612.out\n",
      "g++ ./uzip/HW11_109511037_吳淵渟/No22/109511037.cpp -std=c++14 -O3 -o ./compiled/109511037.out\n",
      "g++ ./uzip/HW11_0710161_陶榮台/No22/0710161.cpp -std=c++14 -O3 -o ./compiled/0710161.out\n",
      "g++ ./uzip/HW11_109511055_蘇柏叡/No22/109511055.cpp -std=c++14 -O3 -o ./compiled/109511055.out\n",
      "g++ ./uzip/HW11_0810715_林毓雯/HW11_0810715_¬L╖╢╢▓/No22/0810715.c -std=c++14 -O3 -o ./compiled/0810715.out\n",
      "g++ ./uzip/HW11_0710723_丁婕茹/No22/0710723.c -std=c++14 -O3 -o ./compiled/0710723.out\n",
      "\n",
      "Error Num:  2\n",
      "./uzip/HW11_0810831_陳子嘉/HW11_0810831_│»ñl╣┼/No22\n",
      "./uzip/HW11_109511018_賴奕翔/No22\n"
     ]
    }
   ],
   "source": [
    "error_file = []\n",
    "for name in os.listdir('./uzip'):\n",
    "    # print(name, end = \" \")\n",
    "    std_id = is_good_file(name)\n",
    "    for hw22 in os.listdir(f\"./uzip/{name}\"):\n",
    "        if hw22[-2:] == WROK_NAME:\n",
    "            # print(hw22)\n",
    "            find_file(f\"./uzip/{name}/{hw22}\", std_id)\n",
    "        elif hw22[:2] == \"HW\" and hw22[-3:]!= \"pdf\":\n",
    "            for hw22_2 in os.listdir(f\"./uzip/{name}/{hw22}\"):\n",
    "                if hw22_2[-2:] == WROK_NAME:\n",
    "                    # print(hw22_2)\n",
    "                    find_file(f\"./uzip/{name}/{hw22}/{hw22_2}\", std_id)\n",
    "                    \n",
    "print()\n",
    "print(\"Error Num: \", len(error_file))\n",
    "for name in error_file:\n",
    "    print(name)"
   ]
  },
  {
   "cell_type": "markdown",
   "metadata": {},
   "source": [
    "# Get output\n",
    "!!! Move Your Input File to ./1101.1037XXXX !!!\n",
    "\n",
    "```\n",
    "./1101.1037-HW4 - Chapter4-232296\n",
    "├── compiled\n",
    "│   └── xxxxxxxxxx.out\n",
    "├── get_ans.ipynb\n",
    "├── input\n",
    "│   ├── input1.txt\n",
    "│   └── inputX.txt\n",
    "└── stander_output\n",
    "    ├── output1.txt\n",
    "    └── outputX.txt\n",
    "```"
   ]
  },
  {
   "cell_type": "code",
   "execution_count": 1,
   "metadata": {},
   "outputs": [],
   "source": [
    "time_limit = 10 # 10 sec"
   ]
  },
  {
   "cell_type": "code",
   "execution_count": 12,
   "metadata": {},
   "outputs": [],
   "source": [
    "!mkdir stu_out"
   ]
  },
  {
   "cell_type": "code",
   "execution_count": 13,
   "metadata": {},
   "outputs": [
    {
     "name": "stdout",
     "output_type": "stream",
     "text": [
      "0810943.out\n",
      "0810831.out\n"
     ]
    },
    {
     "name": "stderr",
     "output_type": "stream",
     "text": [
      "mkdir: cannot create directory ‘./stu_out/0810943’: File exists\n",
      "mkdir: cannot create directory ‘./stu_out/0810831’: File exists\n",
      "timeout: the monitored command dumped core\n",
      "Segmentation fault\n"
     ]
    },
    {
     "name": "stdout",
     "output_type": "stream",
     "text": [
      "109511099.out\n"
     ]
    },
    {
     "name": "stderr",
     "output_type": "stream",
     "text": [
      "mkdir: cannot create directory ‘./stu_out/109511099’: File exists\n"
     ]
    },
    {
     "name": "stdout",
     "output_type": "stream",
     "text": [
      "0810706.out\n"
     ]
    },
    {
     "name": "stderr",
     "output_type": "stream",
     "text": [
      "mkdir: cannot create directory ‘./stu_out/0810706’: File exists\n",
      "timeout: the monitored command dumped core\n",
      "Segmentation fault\n",
      "timeout: the monitored command dumped core\n",
      "Segmentation fault\n"
     ]
    },
    {
     "name": "stdout",
     "output_type": "stream",
     "text": [
      "109511088.out\n"
     ]
    },
    {
     "name": "stderr",
     "output_type": "stream",
     "text": [
      "mkdir: cannot create directory ‘./stu_out/109511088’: File exists\n"
     ]
    },
    {
     "name": "stdout",
     "output_type": "stream",
     "text": [
      "109511061.out\n"
     ]
    },
    {
     "name": "stderr",
     "output_type": "stream",
     "text": [
      "mkdir: cannot create directory ‘./stu_out/109511061’: File exists\n"
     ]
    },
    {
     "name": "stdout",
     "output_type": "stream",
     "text": [
      "109511077.out\n"
     ]
    },
    {
     "name": "stderr",
     "output_type": "stream",
     "text": [
      "mkdir: cannot create directory ‘./stu_out/109511077’: File exists\n"
     ]
    },
    {
     "name": "stdout",
     "output_type": "stream",
     "text": [
      "109511017.out\n"
     ]
    },
    {
     "name": "stderr",
     "output_type": "stream",
     "text": [
      "mkdir: cannot create directory ‘./stu_out/109511017’: File exists\n"
     ]
    }
   ],
   "source": [
    "for file in os.listdir('./compiled2'):\n",
    "    print(file)\n",
    "    dic = os.listdir('./input')\n",
    "    dic.sort()\n",
    "    os.system(f\"mkdir ./stu_out/{file[:-4]}\")\n",
    "    for idx, ipt in enumerate(dic):\n",
    "        os.system(f\"timeout {time_limit} ./compiled2/{file} < ./input/{ipt} > ./stu_out/{file[:-4]}/output{idx+1}.txt\")\n",
    "        # print(f\"./compiled/{file} < ./input/{ipt} > ./stu_out/{file[:-4]}/output{idx+1}.txt\")"
   ]
  },
  {
   "cell_type": "markdown",
   "metadata": {},
   "source": [
    "# Judge"
   ]
  },
  {
   "cell_type": "code",
   "execution_count": 14,
   "metadata": {},
   "outputs": [],
   "source": [
    "score_div = []\n",
    "def init_score(lst):\n",
    "    global score_div\n",
    "    PN = len(os.listdir(\"./input\"))\n",
    "    if len(lst) !=  PN:\n",
    "        score_div = [(100/PN) for i in range(PN)]\n",
    "    else :\n",
    "        score_div = lst"
   ]
  },
  {
   "cell_type": "markdown",
   "metadata": {},
   "source": [
    "# Give the score for each problems"
   ]
  },
  {
   "cell_type": "code",
   "execution_count": 15,
   "metadata": {},
   "outputs": [
    {
     "name": "stdout",
     "output_type": "stream",
     "text": [
      "Total Score:  140\n"
     ]
    }
   ],
   "source": [
    "init_score([50, 10, 10, 10, 10, 10, 10, 10, 10, 10])\n",
    "print(\"Total Score: \", sum(score_div))"
   ]
  },
  {
   "cell_type": "code",
   "execution_count": 16,
   "metadata": {},
   "outputs": [
    {
     "data": {
      "text/plain": [
       "True"
      ]
     },
     "execution_count": 16,
     "metadata": {},
     "output_type": "execute_result"
    }
   ],
   "source": [
    "def chg(ss):\n",
    "    return ss.replace(\" \", \"\").replace(\"\\n\", \"\")\n",
    "\n",
    "def compare_files(fpath1, fpath2):\n",
    "    fp1 = open(fpath1, \"r\")\n",
    "    fp2 = open(fpath2, \"r\")\n",
    "    line1 = fp1.readlines()\n",
    "    line2 = fp2.readlines()\n",
    "    str1 = \"\"\n",
    "    str2 = \"\"\n",
    "    for idx in range(len(line1)):\n",
    "        str1 += chg(line1[idx])\n",
    "    for idx in range(len(line2)):\n",
    "        str2 += chg(line2[idx])\n",
    "    fp1.close()\n",
    "    fp2.close()\n",
    "    if str1 != str2:\n",
    "        return False\n",
    "    return True\n",
    "compare_files(\"./output/T1_output.txt\", \"./stu_out/0810750/output1.txt\")"
   ]
  },
  {
   "cell_type": "code",
   "execution_count": 17,
   "metadata": {},
   "outputs": [
    {
     "name": "stdout",
     "output_type": "stream",
     "text": [
      "0610817\t80\tWA:[5, 6, 7, 8, 9, 10]\n",
      "[>                    ]\n",
      "0611612\t80\tWA:[5, 6, 7, 8, 9, 10]\n",
      "[>                    ]\n",
      "0710161\t80\tWA:[3, 4, 6, 7, 8, 10]\n",
      "[>                    ]\n",
      "0710176\t140\tWA:[]\n",
      "[>                    ]\n",
      "0710723\t80\tWA:[3, 4, 5, 7, 8, 10]\n",
      "[=>                   ]\n",
      "0710731\t80\tWA:[5, 6, 7, 8, 9, 10]\n",
      "[=>                   ]\n",
      "0710765\t80\tWA:[5, 6, 7, 8, 9, 10]\n",
      "[=>                   ]\n",
      "0710772\t80\tWA:[5, 6, 7, 8, 9, 10]\n",
      "[=>                   ]\n",
      "0710787\t80\tWA:[3, 4, 5, 7, 8, 10]\n",
      "[=>                   ]\n",
      "0710827\t140\tWA:[]\n",
      "[==>                  ]\n",
      "0710838\t140\tWA:[]\n",
      "[==>                  ]\n",
      "0710841\t80\tWA:[3, 4, 5, 7, 8, 10]\n",
      "[==>                  ]\n",
      "0710877\t80\tWA:[3, 4, 5, 7, 8, 10]\n",
      "[==>                  ]\n",
      "0711063\t60\tWA:[3, 4, 5, 6, 7, 8, 9, 10]\n",
      "[==>                  ]\n",
      "0711098\t80\tWA:[3, 5, 6, 7, 8, 10]\n",
      "[===>                 ]\n",
      "0711100\t60\tWA:[3, 4, 5, 6, 7, 8, 9, 10]\n",
      "[===>                 ]\n",
      "0711248\t140\tWA:[]\n",
      "[===>                 ]\n",
      "0711321\t140\tWA:[]\n",
      "[===>                 ]\n",
      "0712014\t80\tWA:[3, 4, 5, 7, 8, 10]\n",
      "[===>                 ]\n",
      "0717015\t60\tWA:[3, 4, 5, 6, 7, 8, 9, 10]\n",
      "[====>                ]\n",
      "0810706\t60\tWA:[3, 4, 5, 6, 7, 8, 9, 10]\n",
      "[====>                ]\n",
      "0810715\t80\tWA:[5, 6, 7, 8, 9, 10]\n",
      "[====>                ]\n",
      "0810725\t80\tWA:[5, 6, 7, 8, 9, 10]\n",
      "[====>                ]\n",
      "0810733\t130\tWA:[5]\n",
      "[=====>               ]\n",
      "0810743\t0\tWA:[1, 2, 3, 4, 5, 6, 7, 8, 9, 10]\n",
      "[=====>               ]\n",
      "0810750\t140\tWA:[]\n",
      "[=====>               ]\n",
      "0810760\t70\tWA:[3, 4, 6, 7, 8, 9, 10]\n",
      "[=====>               ]\n",
      "0810784\t80\tWA:[5, 6, 7, 8, 9, 10]\n",
      "[=====>               ]\n",
      "0810829\t80\tWA:[3, 4, 5, 7, 8, 10]\n",
      "[======>              ]\n",
      "0810831\t90\tWA:[5, 6, 7, 8, 10]\n",
      "[======>              ]\n",
      "0810833\t80\tWA:[3, 4, 5, 7, 8, 10]\n",
      "[======>              ]\n",
      "0810844\t70\tWA:[3, 4, 5, 7, 8, 9, 10]\n",
      "[======>              ]\n",
      "0810850\t140\tWA:[]\n",
      "[======>              ]\n",
      "0810860\t0\tWA:[1, 2, 3, 4, 5, 6, 7, 8, 9, 10]\n",
      "[=======>             ]\n",
      "0810861\t70\tWA:[3, 4, 5, 7, 8, 9, 10]\n",
      "[=======>             ]\n",
      "0810885\t140\tWA:[]\n",
      "[=======>             ]\n",
      "0810892\t70\tWA:[3, 4, 5, 7, 8, 9, 10]\n",
      "[=======>             ]\n",
      "0810943\t10\tWA:[1, 2, 3, 4, 5, 6, 7, 8, 10]\n",
      "[=======>             ]\n",
      "0810972\t80\tWA:[3, 4, 5, 7, 8, 10]\n",
      "[========>            ]\n",
      "0810982\t80\tWA:[3, 4, 5, 7, 8, 10]\n",
      "[========>            ]\n",
      "0810988\t60\tWA:[3, 4, 5, 6, 7, 8, 9, 10]\n",
      "[========>            ]\n",
      "0810992\t80\tWA:[5, 6, 7, 8, 9, 10]\n",
      "[========>            ]\n",
      "0812235\t110\tWA:[5, 8, 10]\n",
      "[========>            ]\n",
      "0819806\t50\tWA:[2, 3, 4, 5, 6, 7, 8, 9, 10]\n",
      "[=========>           ]\n",
      "10514023\t140\tWA:[]\n",
      "[=========>           ]\n",
      "109511004\t80\tWA:[5, 6, 7, 8, 9, 10]\n",
      "[=========>           ]\n",
      "109511006\t0\tWA:[1, 2, 3, 4, 5, 6, 7, 8, 9, 10]\n",
      "[=========>           ]\n",
      "109511007\t140\tWA:[]\n",
      "[==========>          ]\n",
      "109511009\t100\tWA:[5, 8, 9, 10]\n",
      "[==========>          ]\n",
      "109511017\t80\tWA:[5, 6, 7, 8, 9, 10]\n",
      "[==========>          ]\n",
      "109511018\t60\tWA:[3, 4, 5, 6, 7, 8, 9, 10]\n",
      "[==========>          ]\n",
      "109511019\t60\tWA:[3, 4, 5, 6, 7, 8, 9, 10]\n",
      "[==========>          ]\n",
      "109511026\t80\tWA:[5, 6, 7, 8, 9, 10]\n",
      "[===========>         ]\n",
      "109511029\t80\tWA:[5, 6, 7, 8, 9, 10]\n",
      "[===========>         ]\n",
      "109511031\t80\tWA:[5, 6, 7, 8, 9, 10]\n",
      "[===========>         ]\n",
      "109511037\t60\tWA:[3, 4, 5, 6, 7, 8, 9, 10]\n",
      "[===========>         ]\n",
      "109511039\t140\tWA:[]\n",
      "[===========>         ]\n",
      "109511054\t140\tWA:[]\n",
      "[============>        ]\n",
      "109511055\t100\tWA:[5, 8, 9, 10]\n",
      "[============>        ]\n",
      "109511057\t80\tWA:[5, 6, 7, 8, 9, 10]\n",
      "[============>        ]\n",
      "109511060\t80\tWA:[5, 6, 7, 8, 9, 10]\n",
      "[============>        ]\n",
      "109511061\t120\tWA:[8, 10]\n",
      "[============>        ]\n",
      "109511068\t140\tWA:[]\n",
      "[=============>       ]\n",
      "109511074\t60\tWA:[3, 4, 5, 6, 7, 8, 9, 10]\n",
      "[=============>       ]\n",
      "109511076\t80\tWA:[5, 6, 7, 8, 9, 10]\n",
      "[=============>       ]\n",
      "109511077\t80\tWA:[5, 6, 7, 8, 9, 10]\n",
      "[=============>       ]\n",
      "109511085\t80\tWA:[3, 4, 5, 7, 8, 10]\n",
      "[=============>       ]\n",
      "109511088\t60\tWA:[3, 4, 5, 6, 7, 8, 9, 10]\n",
      "[==============>      ]\n",
      "109511095\t90\tWA:[5, 6, 7, 8, 10]\n",
      "[==============>      ]\n",
      "109511099\t100\tWA:[5, 8, 9, 10]\n",
      "[==============>      ]\n",
      "109511101\t0\tWA:[1, 2, 3, 4, 5, 6, 7, 8, 9, 10]\n",
      "[==============>      ]\n",
      "109511108\t140\tWA:[]\n",
      "[===============>     ]\n",
      "109511109\t140\tWA:[]\n",
      "[===============>     ]\n",
      "109511136\t100\tWA:[5, 8, 9, 10]\n",
      "[===============>     ]\n",
      "109511143\t70\tWA:[3, 4, 5, 6, 7, 8, 10]\n",
      "[===============>     ]\n",
      "109511147\t90\tWA:[5, 6, 7, 8, 10]\n",
      "[===============>     ]\n",
      "109511159\t80\tWA:[3, 4, 5, 7, 8, 10]\n",
      "[================>    ]\n",
      "109511168\t130\tWA:[2]\n",
      "[================>    ]\n",
      "109511173\t80\tWA:[5, 6, 7, 8, 9, 10]\n",
      "[================>    ]\n",
      "109511179\t70\tWA:[2, 3, 5, 6, 7, 8, 10]\n",
      "[================>    ]\n",
      "109511183\t100\tWA:[5, 8, 9, 10]\n",
      "[================>    ]\n",
      "109511190\t80\tWA:[3, 4, 5, 7, 8, 10]\n",
      "[=================>   ]\n",
      "109511200\t80\tWA:[5, 6, 7, 8, 9, 10]\n",
      "[=================>   ]\n",
      "109511216\t50\tWA:[2, 3, 4, 5, 6, 7, 8, 9, 10]\n",
      "[=================>   ]\n",
      "109511219\t80\tWA:[5, 6, 7, 8, 9, 10]\n",
      "[=================>   ]\n",
      "109511220\t60\tWA:[2, 3, 5, 6, 7, 8, 9, 10]\n",
      "[=================>   ]\n",
      "109511225\t130\tWA:[5]\n",
      "[==================>  ]\n",
      "109511226\t130\tWA:[5]\n",
      "[==================>  ]\n",
      "109511234\t70\tWA:[3, 4, 6, 7, 8, 9, 10]\n",
      "[==================>  ]\n",
      "109511242\t80\tWA:[5, 6, 7, 8, 9, 10]\n",
      "[==================>  ]\n",
      "109511244\t80\tWA:[5, 6, 7, 8, 9, 10]\n",
      "[==================>  ]\n",
      "109511262\t100\tWA:[5, 8, 9, 10]\n",
      "[===================> ]\n",
      "109511295\t140\tWA:[]\n",
      "[===================> ]\n",
      "109511299\t80\tWA:[5, 6, 7, 8, 9, 10]\n",
      "[===================> ]\n",
      "310512022\t120\tWA:[2, 4]\n",
      "[===================> ]\n",
      "610001022\t140\tWA:[]\n",
      "[====================>]\n"
     ]
    }
   ],
   "source": [
    "import csv \n",
    "f = open('score.csv', 'w')\n",
    "writer = csv.writer(f)\n",
    "stu_list = os.listdir(\"./stu_out\")\n",
    "stu_list.sort()\n",
    "cnt, SN = 0, len(stu_list)\n",
    "for stu_name in stu_list:\n",
    "    PN = len(os.listdir(\"./input\"))\n",
    "    cnt += 1\n",
    "    score = 0\n",
    "    lst = []\n",
    "    for idx in range(1, PN+1):\n",
    "        # chgs(\"./stu_out/{stu_name}/output{idx}.txt\")\n",
    "        comp = compare_files(f\"./output/T{idx}_output.txt\", f\"./stu_out/{stu_name}/output{idx}.txt\")\n",
    "        score += score_div[idx-1]*comp\n",
    "        if not comp:\n",
    "            lst.append(idx)\n",
    "    print(f\"{stu_name}\\t{score}\\tWA:{lst}\\n[{'='*(int(20*cnt/SN))}>{' '*(20 - int(20*cnt/SN))}]\")\n",
    "    writer.writerow([stu_name, score])\n",
    "f.close()"
   ]
  },
  {
   "cell_type": "code",
   "execution_count": null,
   "metadata": {},
   "outputs": [],
   "source": []
  }
 ],
 "metadata": {
  "interpreter": {
   "hash": "916dbcbb3f70747c44a77c7bcd40155683ae19c65e1c03b4aa3499c5328201f1"
  },
  "kernelspec": {
   "display_name": "Python 3.8.10 64-bit",
   "language": "python",
   "name": "python3"
  },
  "language_info": {
   "codemirror_mode": {
    "name": "ipython",
    "version": 3
   },
   "file_extension": ".py",
   "mimetype": "text/x-python",
   "name": "python",
   "nbconvert_exporter": "python",
   "pygments_lexer": "ipython3",
   "version": "3.9.7"
  },
  "orig_nbformat": 4
 },
 "nbformat": 4,
 "nbformat_minor": 2
}
